{
 "cells": [
  {
   "cell_type": "markdown",
   "source": [
    "# Data Cleaning"
   ],
   "metadata": {}
  },
  {
   "cell_type": "code",
   "execution_count": 1,
   "source": [
    "import pandas as pd\r\n",
    "data = pd.read_csv('student_scores.csv')\r\n",
    "data.head()"
   ],
   "outputs": [
    {
     "output_type": "execute_result",
     "data": {
      "text/html": [
       "<div>\n",
       "<style scoped>\n",
       "    .dataframe tbody tr th:only-of-type {\n",
       "        vertical-align: middle;\n",
       "    }\n",
       "\n",
       "    .dataframe tbody tr th {\n",
       "        vertical-align: top;\n",
       "    }\n",
       "\n",
       "    .dataframe thead th {\n",
       "        text-align: right;\n",
       "    }\n",
       "</style>\n",
       "<table border=\"1\" class=\"dataframe\">\n",
       "  <thead>\n",
       "    <tr style=\"text-align: right;\">\n",
       "      <th></th>\n",
       "      <th>Hours</th>\n",
       "      <th>Scores</th>\n",
       "    </tr>\n",
       "  </thead>\n",
       "  <tbody>\n",
       "    <tr>\n",
       "      <th>0</th>\n",
       "      <td>2.5</td>\n",
       "      <td>21</td>\n",
       "    </tr>\n",
       "    <tr>\n",
       "      <th>1</th>\n",
       "      <td>5.1</td>\n",
       "      <td>47</td>\n",
       "    </tr>\n",
       "    <tr>\n",
       "      <th>2</th>\n",
       "      <td>3.2</td>\n",
       "      <td>27</td>\n",
       "    </tr>\n",
       "    <tr>\n",
       "      <th>3</th>\n",
       "      <td>8.5</td>\n",
       "      <td>75</td>\n",
       "    </tr>\n",
       "    <tr>\n",
       "      <th>4</th>\n",
       "      <td>3.5</td>\n",
       "      <td>30</td>\n",
       "    </tr>\n",
       "  </tbody>\n",
       "</table>\n",
       "</div>"
      ],
      "text/plain": [
       "   Hours  Scores\n",
       "0    2.5      21\n",
       "1    5.1      47\n",
       "2    3.2      27\n",
       "3    8.5      75\n",
       "4    3.5      30"
      ]
     },
     "metadata": {},
     "execution_count": 1
    }
   ],
   "metadata": {}
  },
  {
   "cell_type": "code",
   "execution_count": 2,
   "source": [
    "data.tail()"
   ],
   "outputs": [
    {
     "output_type": "execute_result",
     "data": {
      "text/html": [
       "<div>\n",
       "<style scoped>\n",
       "    .dataframe tbody tr th:only-of-type {\n",
       "        vertical-align: middle;\n",
       "    }\n",
       "\n",
       "    .dataframe tbody tr th {\n",
       "        vertical-align: top;\n",
       "    }\n",
       "\n",
       "    .dataframe thead th {\n",
       "        text-align: right;\n",
       "    }\n",
       "</style>\n",
       "<table border=\"1\" class=\"dataframe\">\n",
       "  <thead>\n",
       "    <tr style=\"text-align: right;\">\n",
       "      <th></th>\n",
       "      <th>Hours</th>\n",
       "      <th>Scores</th>\n",
       "    </tr>\n",
       "  </thead>\n",
       "  <tbody>\n",
       "    <tr>\n",
       "      <th>120</th>\n",
       "      <td>7.7</td>\n",
       "      <td>80</td>\n",
       "    </tr>\n",
       "    <tr>\n",
       "      <th>121</th>\n",
       "      <td>4.2</td>\n",
       "      <td>38</td>\n",
       "    </tr>\n",
       "    <tr>\n",
       "      <th>122</th>\n",
       "      <td>2.5</td>\n",
       "      <td>27</td>\n",
       "    </tr>\n",
       "    <tr>\n",
       "      <th>123</th>\n",
       "      <td>4.1</td>\n",
       "      <td>37</td>\n",
       "    </tr>\n",
       "    <tr>\n",
       "      <th>124</th>\n",
       "      <td>2.2</td>\n",
       "      <td>28</td>\n",
       "    </tr>\n",
       "  </tbody>\n",
       "</table>\n",
       "</div>"
      ],
      "text/plain": [
       "     Hours  Scores\n",
       "120    7.7      80\n",
       "121    4.2      38\n",
       "122    2.5      27\n",
       "123    4.1      37\n",
       "124    2.2      28"
      ]
     },
     "metadata": {},
     "execution_count": 2
    }
   ],
   "metadata": {}
  },
  {
   "cell_type": "code",
   "execution_count": 3,
   "source": [
    "data.isna().any()"
   ],
   "outputs": [
    {
     "output_type": "execute_result",
     "data": {
      "text/plain": [
       "Hours     False\n",
       "Scores    False\n",
       "dtype: bool"
      ]
     },
     "metadata": {},
     "execution_count": 3
    }
   ],
   "metadata": {}
  },
  {
   "cell_type": "code",
   "execution_count": 4,
   "source": [
    "data.isna().sum()"
   ],
   "outputs": [
    {
     "output_type": "execute_result",
     "data": {
      "text/plain": [
       "Hours     0\n",
       "Scores    0\n",
       "dtype: int64"
      ]
     },
     "metadata": {},
     "execution_count": 4
    }
   ],
   "metadata": {}
  },
  {
   "cell_type": "code",
   "execution_count": 5,
   "source": [
    "data.isna().any().sum()"
   ],
   "outputs": [
    {
     "output_type": "execute_result",
     "data": {
      "text/plain": [
       "0"
      ]
     },
     "metadata": {},
     "execution_count": 5
    }
   ],
   "metadata": {}
  },
  {
   "cell_type": "markdown",
   "source": [
    "# Data selection Using Filter Method"
   ],
   "metadata": {}
  },
  {
   "cell_type": "code",
   "execution_count": 6,
   "source": [
    "import pandas as pd\r\n",
    "data = pd.read_csv('student_scores.csv')\r\n",
    "import numpy as np\r\n",
    "import matplotlib\r\n",
    "import matplotlib.pyplot as plt\r\n",
    "import seaborn as sns\r\n",
    "%matplotlib inline\r\n",
    "from sklearn.model_selection import train_test_split\r\n",
    "from sklearn.linear_model import LinearRegression\r\n",
    "from sklearn.feature_selection import RFE\r\n",
    "from sklearn.linear_model import RidgeCV, LassoCV, Ridge, Lasso"
   ],
   "outputs": [],
   "metadata": {}
  },
  {
   "cell_type": "code",
   "execution_count": 7,
   "source": [
    "df = pd.read_csv('student_scores.csv')"
   ],
   "outputs": [],
   "metadata": {}
  },
  {
   "cell_type": "code",
   "execution_count": 8,
   "source": [
    "plt.figure(figsize=(12,10))\r\n",
    "cor = df.corr()\r\n",
    "sns.heatmap(cor, annot=True, cmap=plt.cm.Reds)\r\n",
    "plt.show()"
   ],
   "outputs": [
    {
     "output_type": "display_data",
     "data": {
      "image/png": "[encoded data removed]",
      "text/plain": [
       "<Figure size 864x720 with 2 Axes>"
      ]
     },
     "metadata": {
      "needs_background": "light"
     }
    }
   ],
   "metadata": {}
  },
  {
   "cell_type": "code",
   "execution_count": 9,
   "source": [
    "cor_target = abs(cor[\"Hours\"])\r\n",
    "#Selecting highly correlated features\r\n",
    "relevant_features = cor_target[cor_target>0.5]\r\n",
    "relevant_features"
   ],
   "outputs": [
    {
     "output_type": "execute_result",
     "data": {
      "text/plain": [
       "Hours     1.000000\n",
       "Scores    0.987167\n",
       "Name: Hours, dtype: float64"
      ]
     },
     "metadata": {},
     "execution_count": 9
    }
   ],
   "metadata": {}
  },
  {
   "cell_type": "markdown",
   "source": [
    "# Model Building with Data Split Using K-Fold"
   ],
   "metadata": {}
  },
  {
   "cell_type": "code",
   "execution_count": 10,
   "source": [
    "import numpy as np\r\n",
    "import pandas as pd\r\n",
    "import matplotlib.pyplot as plt\r\n",
    "import warnings\r\n",
    "warnings.simplefilter(action='ignore', category=FutureWarning)"
   ],
   "outputs": [],
   "metadata": {}
  },
  {
   "cell_type": "code",
   "execution_count": 11,
   "source": [
    "def generateModel(train, validation):\r\n",
    "    train_x = np.array(train.iloc[:, :-1])\r\n",
    "    train_y = train.iloc[:, -1]\r\n",
    "\r\n",
    "    validation_x = np.array(validation.iloc[:, :-1])\r\n",
    "    validation_y = validation.iloc[:, -1]\r\n",
    "\r\n",
    "    # Making estimates from the validation set\r\n",
    "    from sklearn.linear_model import LinearRegression\r\n",
    "    clf = LinearRegression()\r\n",
    "    clf.fit(train_x, train_y)\r\n",
    "    pred_y = clf.predict(validation_x)\r\n",
    "\r\n",
    "    error = np.square(np.subtract(validation_y, pred_y)).mean()\r\n",
    "    return error"
   ],
   "outputs": [],
   "metadata": {}
  },
  {
   "cell_type": "code",
   "execution_count": 12,
   "source": [
    "def K_Fold_Cross(df):\r\n",
    "    k = 60\r\n",
    "    min_key = 2\r\n",
    "\r\n",
    "    # Preparing plot between value of 'K' and estimated error\r\n",
    "    fig = plt.figure()\r\n",
    "    plt.xlabel('No. of splits')\r\n",
    "    plt.ylabel('Error')\r\n",
    "\r\n",
    "    while (k <= len(df)):\r\n",
    "        n_splits = k\r\n",
    "        n = (len(df) // n_splits)\r\n",
    "        total_error = 0\r\n",
    "\r\n",
    "        for i in range(n_splits):\r\n",
    "            # Preparing the train and validation data\r\n",
    "            validation = df[(i * n):((i + 1) * n)]\r\n",
    "            train = pd.concat([df[:(i * n)], df[((i + 1) * n):]])\r\n",
    "            total_error += generateModel(train, validation)\r\n",
    "\r\n",
    "        total_error = total_error / k\r\n",
    "\r\n",
    "        if (k == 60):\r\n",
    "            min_error = total_error\r\n",
    "        else:\r\n",
    "            if (total_error < min_error):\r\n",
    "                min_error = total_error\r\n",
    "                min_key = k\r\n",
    "\r\n",
    "        fig = plt.scatter(k, total_error, color='g')\r\n",
    "        k = k + 1\r\n",
    "\r\n",
    "    return (fig, min_key, min_error)"
   ],
   "outputs": [],
   "metadata": {}
  },
  {
   "cell_type": "code",
   "execution_count": 13,
   "source": [
    "data = pd.read_csv('student_scores.csv')"
   ],
   "outputs": [],
   "metadata": {}
  },
  {
   "cell_type": "code",
   "execution_count": 14,
   "source": [
    "# Dividing the train and test data\r\n",
    "train_data = data.iloc[:110, :]\r\n",
    "test_data = data.iloc[110:, :]"
   ],
   "outputs": [],
   "metadata": {}
  },
  {
   "cell_type": "code",
   "execution_count": 15,
   "source": [
    "plot, correct_K, correct_error = K_Fold_Cross(train_data)"
   ],
   "outputs": [
    {
     "output_type": "display_data",
     "data": {
      "image/png": "[encoded data removed]",
      "text/plain": [
       "<Figure size 432x288 with 1 Axes>"
      ]
     },
     "metadata": {
      "needs_background": "light"
     }
    }
   ],
   "metadata": {}
  },
  {
   "cell_type": "code",
   "execution_count": 16,
   "source": [
    "print(\"Estimated Error Rate =\", correct_error, \" with K =\", correct_K)\r\n",
    "plt.show()"
   ],
   "outputs": [
    {
     "output_type": "stream",
     "name": "stdout",
     "text": [
      "Estimated Error Rate = 11.593478883945979  with K = 110\n"
     ]
    }
   ],
   "metadata": {}
  },
  {
   "cell_type": "code",
   "execution_count": 17,
   "source": [
    "# Separating the predictors and labels for train and test data\r\n",
    "train_x = np.array(train_data.iloc[:, :-1])\r\n",
    "train_y = train_data.iloc[:, -1]\r\n",
    "test_x = np.array(test_data.iloc[:, :-1])\r\n",
    "test_y = test_data.iloc[:, -1]"
   ],
   "outputs": [],
   "metadata": {}
  },
  {
   "cell_type": "markdown",
   "source": [
    "# Model Evaluation"
   ],
   "metadata": {}
  },
  {
   "cell_type": "code",
   "execution_count": 18,
   "source": [
    "# Predicting actual error rate for Test Set\r\n",
    "from sklearn.linear_model import LinearRegression\r\n",
    "clf = LinearRegression()\r\n",
    "clf.fit(train_x, train_y)\r\n",
    "pred_y = clf.predict(test_x)"
   ],
   "outputs": [],
   "metadata": {}
  },
  {
   "cell_type": "code",
   "execution_count": 19,
   "source": [
    "plt.scatter(test_y, pred_y)\r\n",
    "plt.xlabel('Y Test')\r\n",
    "plt.ylabel('Predicted Y')"
   ],
   "outputs": [
    {
     "output_type": "execute_result",
     "data": {
      "text/plain": [
       "Text(0, 0.5, 'Predicted Y')"
      ]
     },
     "metadata": {},
     "execution_count": 19
    },
    {
     "output_type": "display_data",
     "data": {
      "image/png": "[encoded data removed]",
      "text/plain": [
       "<Figure size 432x288 with 1 Axes>"
      ]
     },
     "metadata": {
      "needs_background": "light"
     }
    }
   ],
   "metadata": {}
  },
  {
   "cell_type": "code",
   "execution_count": 20,
   "source": [
    "actual_error_rate = np.square(np.subtract(test_y, pred_y)).mean()\r\n",
    "print(\"Actual Error Rate  = \", actual_error_rate)"
   ],
   "outputs": [
    {
     "output_type": "stream",
     "name": "stdout",
     "text": [
      "Actual Error Rate  =  12.29605724379942\n"
     ]
    }
   ],
   "metadata": {}
  },
  {
   "cell_type": "code",
   "execution_count": 21,
   "source": [
    "from sklearn import metrics\r\n",
    "# evaluating the model\r\n",
    "\r\n",
    "print('MAE :',\" \", metrics.mean_absolute_error(test_y, pred_y))\r\n",
    "print('MSE :',\" \", metrics.mean_squared_error(test_y, pred_y))\r\n",
    "print('RMAE :',\" \", np.sqrt(metrics.mean_squared_error(test_y, pred_y)))"
   ],
   "outputs": [
    {
     "output_type": "stream",
     "name": "stdout",
     "text": [
      "MAE :   2.997739024369188\n",
      "MSE :   12.29605724379942\n",
      "RMAE :   3.506573433396115\n"
     ]
    }
   ],
   "metadata": {}
  },
  {
   "cell_type": "code",
   "execution_count": 22,
   "source": [
    "import seaborn as sns\r\n",
    "# residuals Plot a histogram of the residuals and make sure it looks normally distributed use either seaborn distplot or plt.hist()\r\n",
    "sns.distplot(test_y - pred_y,bins=50)"
   ],
   "outputs": [
    {
     "output_type": "execute_result",
     "data": {
      "text/plain": [
       "<AxesSubplot:xlabel='Scores', ylabel='Density'>"
      ]
     },
     "metadata": {},
     "execution_count": 22
    },
    {
     "output_type": "display_data",
     "data": {
      "image/png": "[encoded data removed]",
      "text/plain": [
       "<Figure size 432x288 with 1 Axes>"
      ]
     },
     "metadata": {
      "needs_background": "light"
     }
    }
   ],
   "metadata": {}
  }
 ],
 "metadata": {
  "kernelspec": {
   "name": "python3",
   "display_name": "Python 3.9.6 64-bit"
  },
  "language_info": {
   "codemirror_mode": {
    "name": "ipython",
    "version": 3
   },
   "file_extension": ".py",
   "mimetype": "text/x-python",
   "name": "python",
   "nbconvert_exporter": "python",
   "pygments_lexer": "ipython3",
   "version": "3.9.6"
  },
  "interpreter": {
   "hash": "00837f19c863d624fadf5c485b93a062fc04a1f416ff38b3de774f87fa3b03f9"
  }
 },
 "nbformat": 4,
 "nbformat_minor": 4
}